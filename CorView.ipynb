{
 "cells": [
  {
   "cell_type": "markdown",
   "metadata": {},
   "source": [
    "# CorView\n",
    "\n",
    "CorView (CORrelative microscopy VIEWer) is a tool for interactive visualisation of 2D images registered to a 3D dataset. It was designed for classical histology slides registered to 3D X-ray micro-computed tomography datasets, but should also work for any 2D-3D registered images.\n",
    "\n",
    "Run the next cell to set up the notebook.\n"
   ]
  },
  {
   "cell_type": "code",
   "execution_count": 1,
   "metadata": {},
   "outputs": [],
   "source": [
    "from CorView.vis import *"
   ]
  },
  {
   "cell_type": "markdown",
   "metadata": {},
   "source": [
    "## Import 3D image\n",
    "\n",
    "The next cell imports a 3D image .tif stack, please choose an image to load.\n"
   ]
  },
  {
   "cell_type": "code",
   "execution_count": 2,
   "metadata": {},
   "outputs": [
    {
     "data": {
      "application/vnd.jupyter.widget-view+json": {
       "model_id": "b4ace266e1284ccf86edef9bd8a64c18",
       "version_major": 2,
       "version_minor": 0
      },
      "text/plain": [
       "FileChooser(path='C:\\Users\\emlh1n13\\OneDrive - University of Southampton\\Data\\2019-20\\3DXRH_Vis', filename='',…"
      ]
     },
     "metadata": {},
     "output_type": "display_data"
    },
    {
     "data": {
      "application/vnd.jupyter.widget-view+json": {
       "model_id": "1f77fb5a83a5442a9ffcf339c857c9da",
       "version_major": 2,
       "version_minor": 0
      },
      "text/plain": [
       "Button(description='Load Image', style=ButtonStyle())"
      ]
     },
     "metadata": {},
     "output_type": "display_data"
    },
    {
     "data": {
      "application/vnd.jupyter.widget-view+json": {
       "model_id": "d9dc4bccdb804d089828317358e92bfd",
       "version_major": 2,
       "version_minor": 0
      },
      "text/plain": [
       "Output()"
      ]
     },
     "metadata": {},
     "output_type": "display_data"
    }
   ],
   "source": [
    "Stack3D = Image3D()\n",
    "Stack3D.display_widgets()"
   ]
  },
  {
   "cell_type": "markdown",
   "metadata": {},
   "source": [
    "## View 3D image\n",
    "\n",
    "You can view the imported image by running the cell below."
   ]
  },
  {
   "cell_type": "code",
   "execution_count": 3,
   "metadata": {},
   "outputs": [
    {
     "name": "stdout",
     "output_type": "stream",
     "text": [
      "HN1_test.tif\n"
     ]
    },
    {
     "data": {
      "application/vnd.jupyter.widget-view+json": {
       "model_id": "79983956a3364b84b6286de0798d5088",
       "version_major": 2,
       "version_minor": 0
      },
      "text/plain": [
       "interactive(children=(IntSlider(value=0, description='Slice number', max=238), Output()), _dom_classes=('widge…"
      ]
     },
     "metadata": {},
     "output_type": "display_data"
    }
   ],
   "source": [
    "img = Stack3D.get_img()\n",
    "fname_3d = Stack3D.get_img_filename()\n",
    "print(fname_3d)\n",
    "show_3D_slider(img)"
   ]
  },
  {
   "cell_type": "markdown",
   "metadata": {},
   "source": [
    "## Import registered 2D images\n",
    "\n",
    "The following cell imports a 2D image which matches a slice from the 3D image. \n",
    "\n",
    "- To add a new image, click \"Add new image\", select your 2D RGB image, and specify the slice number in the 3D stack which matches your 2D image. \n",
    "\n",
    "- You can add more than one image, and view a list of all your loaded 2D images by clicking \"Display list of loaded images\". \n",
    "\n",
    "- \"Clear all 2D images\" will remove the record of all the imported 2D images (but this does not remove them from memory)."
   ]
  },
  {
   "cell_type": "code",
   "execution_count": 4,
   "metadata": {},
   "outputs": [
    {
     "data": {
      "application/vnd.jupyter.widget-view+json": {
       "model_id": "5292f936691a407dbee1b7b0982cf50f",
       "version_major": 2,
       "version_minor": 0
      },
      "text/plain": [
       "VBox(children=(HBox(children=(Button(description='Add new image', layout=Layout(height='40px', width='auto'), …"
      ]
     },
     "metadata": {},
     "output_type": "display_data"
    },
    {
     "data": {
      "text/html": [
       "<div>\n",
       "<style scoped>\n",
       "    .dataframe tbody tr th:only-of-type {\n",
       "        vertical-align: middle;\n",
       "    }\n",
       "\n",
       "    .dataframe tbody tr th {\n",
       "        vertical-align: top;\n",
       "    }\n",
       "\n",
       "    .dataframe thead th {\n",
       "        text-align: right;\n",
       "    }\n",
       "</style>\n",
       "<table border=\"1\" class=\"dataframe\">\n",
       "  <thead>\n",
       "    <tr style=\"text-align: right;\">\n",
       "      <th></th>\n",
       "      <th>Key</th>\n",
       "      <th>Filenames</th>\n",
       "      <th>Positions</th>\n",
       "    </tr>\n",
       "  </thead>\n",
       "  <tbody>\n",
       "    <tr>\n",
       "      <th>0</th>\n",
       "      <td>05/27/20132608</td>\n",
       "      <td>HN1_201_test.tif</td>\n",
       "      <td>201</td>\n",
       "    </tr>\n",
       "    <tr>\n",
       "      <th>1</th>\n",
       "      <td>05/27/20132618</td>\n",
       "      <td>HN1_236_test.tif</td>\n",
       "      <td>236</td>\n",
       "    </tr>\n",
       "  </tbody>\n",
       "</table>\n",
       "</div>"
      ],
      "text/plain": [
       "              Key         Filenames  Positions\n",
       "0  05/27/20132608  HN1_201_test.tif        201\n",
       "1  05/27/20132618  HN1_236_test.tif        236"
      ]
     },
     "metadata": {},
     "output_type": "display_data"
    }
   ],
   "source": [
    "New2D = CreateImage2D()\n",
    "New2D.display_widgets()"
   ]
  },
  {
   "cell_type": "markdown",
   "metadata": {},
   "source": [
    "## Side-by-side viewing\n",
    "\n",
    "Run the following cell to generate a html side-by-side visualisation of your histology and micro-CT images. You can save the html file to share later."
   ]
  },
  {
   "cell_type": "code",
   "execution_count": null,
   "metadata": {},
   "outputs": [],
   "source": [
    "bokeh_plot = CreateVis()\n",
    "bokeh_plot.display_widgets()"
   ]
  },
  {
   "cell_type": "code",
   "execution_count": null,
   "metadata": {},
   "outputs": [],
   "source": []
  }
 ],
 "metadata": {
  "kernelspec": {
   "display_name": "Python 3",
   "language": "python",
   "name": "python3"
  },
  "language_info": {
   "codemirror_mode": {
    "name": "ipython",
    "version": 3
   },
   "file_extension": ".py",
   "mimetype": "text/x-python",
   "name": "python",
   "nbconvert_exporter": "python",
   "pygments_lexer": "ipython3",
   "version": "3.8.2"
  }
 },
 "nbformat": 4,
 "nbformat_minor": 4
}
