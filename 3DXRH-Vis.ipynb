{
 "cells": [
  {
   "cell_type": "markdown",
   "metadata": {},
   "source": [
    "# 3D X-ray Histology VISualisation (3DXRH-Vis)\n",
    "\n",
    "3DXRH-Vis is a tool for interactive visualisation of 2D images registered to a 3D dataset. It was designed for classical histology slides registered to 3D X-ray micro-computed tomography datasets, but should also work for any 2D-3D registered images.\n"
   ]
  },
  {
   "cell_type": "code",
   "execution_count": 1,
   "metadata": {},
   "outputs": [],
   "source": [
    "# Set up, only needs to be run once at beginning\n",
    "!conda activate 3DXRH_Vis\n",
    "\n",
    "import os\n",
    "import numpy as np\n",
    "from PIL import Image\n",
    "from IPython.display import display\n",
    "import ipywidgets as widgets\n",
    "from ipywidgets import interact\n",
    "from ipyfilechooser import FileChooser\n",
    "from skimage import io, util\n",
    "from traitlets import traitlets"
   ]
  },
  {
   "cell_type": "markdown",
   "metadata": {},
   "source": [
    "## Import 3D image\n"
   ]
  },
  {
   "cell_type": "code",
   "execution_count": 2,
   "metadata": {},
   "outputs": [
    {
     "data": {
      "application/vnd.jupyter.widget-view+json": {
       "model_id": "3ed324e6391c48ae9a967755bffab99c",
       "version_major": 2,
       "version_minor": 0
      },
      "text/plain": [
       "FileChooser(path='C:\\Users\\emlh1n13\\OneDrive - University of Southampton\\Data\\2019-20\\3DXRH_Vis', filename='',…"
      ]
     },
     "metadata": {},
     "output_type": "display_data"
    },
    {
     "data": {
      "application/vnd.jupyter.widget-view+json": {
       "model_id": "e030aa1ce3bd49a0a36ce4b5fd46b031",
       "version_major": 2,
       "version_minor": 0
      },
      "text/plain": [
       "Button(description='Load Image', style=ButtonStyle())"
      ]
     },
     "metadata": {},
     "output_type": "display_data"
    },
    {
     "data": {
      "application/vnd.jupyter.widget-view+json": {
       "model_id": "3260fd500ce64037927a2ba0756f0884",
       "version_major": 2,
       "version_minor": 0
      },
      "text/plain": [
       "Output()"
      ]
     },
     "metadata": {},
     "output_type": "display_data"
    }
   ],
   "source": [
    "class ImageImport():\n",
    "    \"\"\" Imports a 3D image when button is pressed \"\"\"\n",
    "    \n",
    "    def __init__(self):\n",
    "        pass\n",
    "    \n",
    "    def _create_widgets(self):\n",
    "        self.select_file = FileChooser(os.getcwd())\n",
    "        self.button = widgets.Button(description=\"Load Image\")\n",
    "        self.button.on_click(self._on_button_clicked)\n",
    "    \n",
    "    def _on_button_clicked(self, change):\n",
    "        self.out.clear_output()\n",
    "        with self.out:\n",
    "            print(\"Importing image {}, please wait...\".format(self.select_file.selected_filename))\n",
    "            img_import = io.imread(self.select_file.selected_filename, plugin='tifffile')\n",
    "            self.img = util.img_as_ubyte(img_import) # 8bit RGB\n",
    "            print(\"Image successfully imported\")\n",
    "    \n",
    "    def display_widgets(self):\n",
    "        self._create_widgets()\n",
    "        self.out = widgets.Output()\n",
    "        display(self.select_file, self.button, self.out)\n",
    "    \n",
    "    def get_img(self):\n",
    "        return self.img\n",
    "    \n",
    "    def get_img_filename(self):\n",
    "        return self.select_file.selected_filename\n",
    "\n",
    "def show_3D_slider(img):\n",
    "    def show_slice(slice_number):\n",
    "        io.imshow(img[slice_number])\n",
    "        io.show()\n",
    "    slider = widgets.IntSlider(min=0, max=len(img), step=1, description=\"Slice number\")\n",
    "    interact(show_slice, slice_number=slider)\n",
    "\n",
    "Stack3D = ImageImport()\n",
    "Stack3D.display_widgets()\n"
   ]
  },
  {
   "cell_type": "code",
   "execution_count": 3,
   "metadata": {},
   "outputs": [
    {
     "data": {
      "application/vnd.jupyter.widget-view+json": {
       "model_id": "5690f3f380444a6aa39499364d674554",
       "version_major": 2,
       "version_minor": 0
      },
      "text/plain": [
       "interactive(children=(IntSlider(value=0, description='Slice number', max=239), Output()), _dom_classes=('widge…"
      ]
     },
     "metadata": {},
     "output_type": "display_data"
    }
   ],
   "source": [
    "img = Stack3D.get_img()\n",
    "fname_3d = Stack3D.get_img_filename()\n",
    "show_3D_slider(img)"
   ]
  },
  {
   "cell_type": "code",
   "execution_count": null,
   "metadata": {},
   "outputs": [],
   "source": [
    "reset"
   ]
  },
  {
   "cell_type": "markdown",
   "metadata": {},
   "source": [
    "## Import registered 2D images into 3D stack.\n",
    "\n",
    "Run the following cell to import a 2D image and specify the position in the 3D stack to import the 2D image."
   ]
  },
  {
   "cell_type": "markdown",
   "metadata": {},
   "source": [
    "The following cell inserts the 2D image at the specified position."
   ]
  },
  {
   "cell_type": "code",
   "execution_count": 6,
   "metadata": {},
   "outputs": [
    {
     "data": {
      "application/vnd.jupyter.widget-view+json": {
       "model_id": "9cbb75b4ac1a441a9212d56aa60d0930",
       "version_major": 2,
       "version_minor": 0
      },
      "text/plain": [
       "FileChooser(path='C:\\Users\\emlh1n13\\OneDrive - University of Southampton\\Data\\2019-20\\3DXRH_Vis', filename='',…"
      ]
     },
     "metadata": {},
     "output_type": "display_data"
    },
    {
     "data": {
      "application/vnd.jupyter.widget-view+json": {
       "model_id": "d6ddda7637894fef9945b7663cb82a5f",
       "version_major": 2,
       "version_minor": 0
      },
      "text/plain": [
       "BoundedFloatText(value=0.0, description='Position of 2D image', max=239.0, step=1.0)"
      ]
     },
     "metadata": {},
     "output_type": "display_data"
    },
    {
     "data": {
      "application/vnd.jupyter.widget-view+json": {
       "model_id": "3b5022c5aee0400a8b01926f509c4eaa",
       "version_major": 2,
       "version_minor": 0
      },
      "text/plain": [
       "Button(description='Load Image', style=ButtonStyle())"
      ]
     },
     "metadata": {},
     "output_type": "display_data"
    },
    {
     "data": {
      "application/vnd.jupyter.widget-view+json": {
       "model_id": "4331496c15b1441f97df1c7755db1eac",
       "version_major": 2,
       "version_minor": 0
      },
      "text/plain": [
       "Output()"
      ]
     },
     "metadata": {},
     "output_type": "display_data"
    }
   ],
   "source": [
    "class ImageImport2D():\n",
    "    \"\"\" Imports a 2D image into a 3D stack when button is pressed \"\"\"\n",
    "    \n",
    "    def __init__(self):\n",
    "        pass\n",
    "    \n",
    "    def _create_widgets(self):\n",
    "        self.select_file = FileChooser(os.getcwd())\n",
    "        self.load_button = widgets.Button(description=\"Load Image\")\n",
    "        self.position = widgets.BoundedFloatText(min=0, max=len(img), step=1, description=\"Position of 2D image\")\n",
    "        self.load_button.on_click(self._on_load_button_clicked)\n",
    "    \n",
    "    def _on_load_button_clicked(self, change):\n",
    "        self.out.clear_output()\n",
    "        with self.out:\n",
    "            print(\"Importing image {}, please wait...\".format(self.select_file.selected_filename))\n",
    "            img_import = io.imread(self.select_file.selected, plugin='tifffile')\n",
    "            self.img_2d = util.img_as_ubyte(img_import) # 8bit RGB\n",
    "            print(\"Image successfully imported\")\n",
    "            self.img_combined = np.insert(img, [int(self.position.value)], self.img_2d, axis=0)\n",
    "            print(\"2D image {} imported into 3D image {} at position {}\".format(\n",
    "                self.select_file.selected_filename, Stack3D.get_img_filename(), str(int(self.position.value))))\n",
    "    \n",
    "    def display_widgets(self):\n",
    "        self._create_widgets()\n",
    "        self.out = widgets.Output()\n",
    "        display(self.select_file, self.position, self.load_button, self.out)\n",
    "    \n",
    "    def get_2D_img(self):\n",
    "        return self.img_2d\n",
    "    \n",
    "    def get_combined_stack(self):\n",
    "        return self.img_combined\n",
    "\n",
    "    def get_position(self):\n",
    "        return int(self.position.value)\n",
    "\n",
    "Img2D = ImageImport2D()\n",
    "Img2D.display_widgets()"
   ]
  },
  {
   "cell_type": "code",
   "execution_count": 7,
   "metadata": {},
   "outputs": [
    {
     "data": {
      "application/vnd.jupyter.widget-view+json": {
       "model_id": "0b08469e65ae4763b4cfe52af048260d",
       "version_major": 2,
       "version_minor": 0
      },
      "text/plain": [
       "interactive(children=(IntSlider(value=0, description='Slice number', max=240), Output()), _dom_classes=('widge…"
      ]
     },
     "metadata": {},
     "output_type": "display_data"
    }
   ],
   "source": [
    "show_3D_slider(Img2D.get_combined_stack())"
   ]
  },
  {
   "cell_type": "markdown",
   "metadata": {},
   "source": [
    "# Side-by-side viewing"
   ]
  },
  {
   "cell_type": "code",
   "execution_count": null,
   "metadata": {},
   "outputs": [],
   "source": []
  },
  {
   "cell_type": "markdown",
   "metadata": {},
   "source": [
    "# to do\n",
    "\n",
    "- Wrap 2D importing into a function so we can import several 2D images\n",
    "- Menu to choose 2D images to skip to\n",
    "- Side by side viewer\n",
    "- Linked pan and zoom for side-by-side\n",
    "- Max intensity\n",
    "- Orthoslice viewer for combined stack\n",
    "- Port to Voila"
   ]
  },
  {
   "cell_type": "markdown",
   "metadata": {},
   "source": [
    "## dep\n"
   ]
  },
  {
   "cell_type": "markdown",
   "metadata": {},
   "source": [
    "## Explore 3D dataset\n",
    "\n",
    "3D images are displayed as sequences of 2D images. Run the following cell to import a 3D dataset."
   ]
  },
  {
   "cell_type": "code",
   "execution_count": null,
   "metadata": {},
   "outputs": [],
   "source": [
    "# Import a 3D dataset\n",
    "fc_3d = FileChooser(os.getcwd())\n",
    "display(fc_3d)"
   ]
  },
  {
   "cell_type": "markdown",
   "metadata": {},
   "source": [
    "Run the following cell to view the 3D dataset."
   ]
  },
  {
   "cell_type": "code",
   "execution_count": null,
   "metadata": {},
   "outputs": [],
   "source": [
    "def show_3D_slider():\n",
    "    img = Image.open(fc_3d.selected)\n",
    "    \n",
    "    def show_slice(slice_number):\n",
    "        img.seek(slice_number)\n",
    "        display(img)\n",
    "        \n",
    "    slider = widgets.IntSlider(min=0, max=img.n_frames, step=1, description=\"Slice number\")\n",
    "    interact(show_slice, slice_number=slider)\n",
    "    \n",
    "    return img\n",
    "\n",
    "img = show_3D_slider()"
   ]
  }
 ],
 "metadata": {
  "kernelspec": {
   "display_name": "Python 3",
   "language": "python",
   "name": "python3"
  },
  "language_info": {
   "codemirror_mode": {
    "name": "ipython",
    "version": 3
   },
   "file_extension": ".py",
   "mimetype": "text/x-python",
   "name": "python",
   "nbconvert_exporter": "python",
   "pygments_lexer": "ipython3",
   "version": "3.8.2"
  }
 },
 "nbformat": 4,
 "nbformat_minor": 4
}
