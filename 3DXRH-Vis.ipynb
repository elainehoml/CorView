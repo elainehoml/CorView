{
 "cells": [
  {
   "cell_type": "markdown",
   "metadata": {},
   "source": [
    "# 3D X-ray Histology VISualisation (3DXRH-Vis)\n",
    "\n",
    "3DXRH-Vis is a tool for interactive visualisation of 2D images registered to a 3D dataset. It was designed for classical histology slides registered to 3D X-ray micro-computed tomography datasets, but should also work for any 2D-3D registered images.\n"
   ]
  },
  {
   "cell_type": "code",
   "execution_count": 4,
   "metadata": {},
   "outputs": [],
   "source": [
    "# Set up, only needs to be run once at beginning\n",
    "!conda activate 3DXRH_Vis\n",
    "\n",
    "import os\n",
    "import numpy as np\n",
    "from PIL import Image\n",
    "from IPython.display import display\n",
    "import ipywidgets as widgets\n",
    "from ipywidgets import interact\n",
    "from ipyfilechooser import FileChooser\n",
    "from skimage import io, viewer, util"
   ]
  },
  {
   "cell_type": "markdown",
   "metadata": {},
   "source": [
    "## Explore 3D dataset\n",
    "\n",
    "3D images are displayed as sequences of 2D images. Run the following cell to import a 3D dataset."
   ]
  },
  {
   "cell_type": "code",
   "execution_count": 5,
   "metadata": {},
   "outputs": [
    {
     "data": {
      "application/vnd.jupyter.widget-view+json": {
       "model_id": "192afdaaaf724b959e2a1135e2b56e4f",
       "version_major": 2,
       "version_minor": 0
      },
      "text/plain": [
       "FileChooser(path='C:\\Users\\emlh1n13\\OneDrive - University of Southampton\\Data\\2019-20\\3DXRH_Vis', filename='',…"
      ]
     },
     "metadata": {},
     "output_type": "display_data"
    }
   ],
   "source": [
    "# Import a 3D dataset\n",
    "fc_3d = FileChooser(os.getcwd())\n",
    "display(fc_3d)"
   ]
  },
  {
   "cell_type": "markdown",
   "metadata": {},
   "source": [
    "Run the following cell to view the 3D dataset."
   ]
  },
  {
   "cell_type": "code",
   "execution_count": null,
   "metadata": {},
   "outputs": [],
   "source": [
    "def show_3D_slider():\n",
    "    img = Image.open(fc_3d.selected)\n",
    "    \n",
    "    def show_slice(slice_number):\n",
    "        img.seek(slice_number)\n",
    "        display(img)\n",
    "        \n",
    "    slider = widgets.IntSlider(min=0, max=img.n_frames, step=1, description=\"Slice number\")\n",
    "    interact(show_slice, slice_number=slider)\n",
    "    \n",
    "    return img\n",
    "\n",
    "img = show_3D_slider()"
   ]
  },
  {
   "cell_type": "markdown",
   "metadata": {},
   "source": [
    "## slower version of slider view for 3D image, but has entire image in memory."
   ]
  },
  {
   "cell_type": "code",
   "execution_count": 6,
   "metadata": {},
   "outputs": [],
   "source": [
    "img_import = io.imread(fc_3d.selected, plugin='tifffile')\n",
    "img = util.img_as_ubyte(img_import) # 8bit RGB"
   ]
  },
  {
   "cell_type": "code",
   "execution_count": 27,
   "metadata": {},
   "outputs": [
    {
     "data": {
      "application/vnd.jupyter.widget-view+json": {
       "model_id": "f85c45813b1f4841a1e1c4df25857858",
       "version_major": 2,
       "version_minor": 0
      },
      "text/plain": [
       "interactive(children=(IntSlider(value=0, description='Slice number', max=239), Output()), _dom_classes=('widge…"
      ]
     },
     "metadata": {},
     "output_type": "display_data"
    }
   ],
   "source": [
    "def show_3D_slider(img):\n",
    "    def show_slice(slice_number):\n",
    "        io.imshow(img[slice_number])\n",
    "        io.show()\n",
    "    slider = widgets.IntSlider(min=0, max=len(img), step=1, description=\"Slice number\")\n",
    "    interact(show_slice, slice_number=slider)\n",
    "\n",
    "show_3D_slider(img)"
   ]
  },
  {
   "cell_type": "markdown",
   "metadata": {},
   "source": [
    "## Import registered 2D images into 3D stack.\n",
    "\n",
    "Run the following cell to import a 2D image and specify the position in the 3D stack to import the 2D image."
   ]
  },
  {
   "cell_type": "code",
   "execution_count": 16,
   "metadata": {},
   "outputs": [
    {
     "data": {
      "application/vnd.jupyter.widget-view+json": {
       "model_id": "80af10e03eec45a38d3e252a035e157f",
       "version_major": 2,
       "version_minor": 0
      },
      "text/plain": [
       "FileChooser(path='C:\\Users\\emlh1n13\\OneDrive - University of Southampton\\Data\\2019-20\\3DXRH_Vis', filename='',…"
      ]
     },
     "metadata": {},
     "output_type": "display_data"
    },
    {
     "data": {
      "application/vnd.jupyter.widget-view+json": {
       "model_id": "40ada16a762e4abba1606fc38097d428",
       "version_major": 2,
       "version_minor": 0
      },
      "text/plain": [
       "BoundedFloatText(value=0.0, description='Position of 2D image', max=239.0, step=1.0)"
      ]
     },
     "metadata": {},
     "output_type": "display_data"
    }
   ],
   "source": [
    "# Import a 2D dataset\n",
    "fc_2d = FileChooser(os.getcwd())\n",
    "display(fc_2d)\n",
    "\n",
    "# position_2d = widgets.BoundedFloatText(min=0, max=img.n_frames, step=1, description=\"Position of 2D image\") if loaded with PIL\n",
    "position_2d = widgets.BoundedFloatText(min=0, max=len(img), step=1, description=\"Position of 2D image\")\n",
    "display(position_2d)"
   ]
  },
  {
   "cell_type": "markdown",
   "metadata": {},
   "source": [
    "The following cell inserts the 2D image at the specified position."
   ]
  },
  {
   "cell_type": "code",
   "execution_count": 31,
   "metadata": {},
   "outputs": [
    {
     "name": "stdout",
     "output_type": "stream",
     "text": [
      "2D image HN1_test.tif imported into 3D image HN1_201_test.tif at position 201.0\n"
     ]
    },
    {
     "data": {
      "application/vnd.jupyter.widget-view+json": {
       "model_id": "a25782c1c2e24b7c9d0ab0b0e1f9dc05",
       "version_major": 2,
       "version_minor": 0
      },
      "text/plain": [
       "interactive(children=(IntSlider(value=0, description='Slice number', max=240), Output()), _dom_classes=('widge…"
      ]
     },
     "metadata": {},
     "output_type": "display_data"
    }
   ],
   "source": [
    "# Import 2D image and insert into stack\n",
    "img_2d_import = io.imread(fc_2d.selected, plugin='tifffile')\n",
    "img_2d = util.img_as_ubyte(img_2d_import) # 8bit RGB\n",
    "img_combined = np.insert(img, [int(position_2d.value)], img_2d, axis=0)\n",
    "print(\"2D image {} imported into 3D image {} at position {}\".format(fc_3d.selected_filename, fc_2d.selected_filename, str(position_2d.value)))\n",
    "\n",
    "# Show combined stack\n",
    "show_3D_slider(img_combined)"
   ]
  },
  {
   "cell_type": "markdown",
   "metadata": {},
   "source": [
    "# to do\n",
    "\n",
    "- Wrap 2D importing into a function so we can import several 2D images\n",
    "- Menu to choose 2D images to skip to\n",
    "- Side by side viewer\n",
    "- Linked pan and zoom for side-by-side\n",
    "- Max intensity\n",
    "- Orthoslice viewer for combined stack\n",
    "- Port to Voila"
   ]
  },
  {
   "cell_type": "code",
   "execution_count": null,
   "metadata": {},
   "outputs": [],
   "source": []
  }
 ],
 "metadata": {
  "kernelspec": {
   "display_name": "Python 3",
   "language": "python",
   "name": "python3"
  },
  "language_info": {
   "codemirror_mode": {
    "name": "ipython",
    "version": 3
   },
   "file_extension": ".py",
   "mimetype": "text/x-python",
   "name": "python",
   "nbconvert_exporter": "python",
   "pygments_lexer": "ipython3",
   "version": "3.8.2"
  }
 },
 "nbformat": 4,
 "nbformat_minor": 4
}
