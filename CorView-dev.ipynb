{
 "cells": [
  {
   "cell_type": "markdown",
   "metadata": {},
   "source": [
    "# 3D X-ray Histology VISualisation (3DXRH-Vis)\n",
    "\n",
    "3DXRH-Vis is a tool for interactive visualisation of 2D images registered to a 3D dataset. It was designed for classical histology slides registered to 3D X-ray micro-computed tomography datasets, but should also work for any 2D-3D registered images.\n"
   ]
  },
  {
   "cell_type": "code",
   "execution_count": 1,
   "metadata": {},
   "outputs": [],
   "source": [
    "# Set up, only needs to be run once at beginning\n",
    "!conda activate CorView\n",
    "\n",
    "import os, sys, time\n",
    "import numpy as np\n",
    "import matplotlib.pyplot as plt\n",
    "from PIL import Image\n",
    "from IPython.display import display, clear_output\n",
    "import ipywidgets as widgets\n",
    "from ipywidgets import interact\n",
    "from ipyfilechooser import FileChooser\n",
    "from skimage import io, util\n",
    "import pandas as pd\n",
    "from bokeh.plotting import figure, show\n",
    "from bokeh.io import output_notebook, output_file\n",
    "from bokeh.layouts import gridplot"
   ]
  },
  {
   "cell_type": "markdown",
   "metadata": {},
   "source": [
    "## Import 3D image\n"
   ]
  },
  {
   "cell_type": "code",
   "execution_count": 3,
   "metadata": {},
   "outputs": [
    {
     "data": {
      "application/vnd.jupyter.widget-view+json": {
       "model_id": "0a7f1fc077074dccb305642816a90f94",
       "version_major": 2,
       "version_minor": 0
      },
      "text/plain": [
       "FileChooser(path='C:\\Users\\emlh1n13\\OneDrive - University of Southampton\\Projects\\Aim2\\CorView', filename='', …"
      ]
     },
     "metadata": {},
     "output_type": "display_data"
    },
    {
     "data": {
      "application/vnd.jupyter.widget-view+json": {
       "model_id": "7d17ae1cc2c04265b88ea316b587fc8a",
       "version_major": 2,
       "version_minor": 0
      },
      "text/plain": [
       "Button(description='Load Image', style=ButtonStyle())"
      ]
     },
     "metadata": {},
     "output_type": "display_data"
    },
    {
     "data": {
      "application/vnd.jupyter.widget-view+json": {
       "model_id": "10b323681ea84feea98c8fc91047ea58",
       "version_major": 2,
       "version_minor": 0
      },
      "text/plain": [
       "Output()"
      ]
     },
     "metadata": {},
     "output_type": "display_data"
    }
   ],
   "source": [
    "class Image3D():\n",
    "    \"\"\" Imports a 3D image when button is pressed \"\"\"\n",
    "    \n",
    "    def __init__(self):\n",
    "        pass\n",
    "    \n",
    "    def _create_widgets(self):\n",
    "        self.select_file = FileChooser(os.getcwd())\n",
    "        self.load_button = widgets.Button(description=\"Load Image\")\n",
    "        self.load_button.on_click(self._on_load_button_clicked)\n",
    "    \n",
    "    def _on_load_button_clicked(self, change):\n",
    "        self.out.clear_output()\n",
    "        with self.out:\n",
    "            print(\"Importing image {}, please wait...\".format(self.select_file.selected_filename))\n",
    "            img_import = io.imread(self.select_file.selected, plugin=\"pil\")\n",
    "            \n",
    "            # Is the image a 3D stack?\n",
    "            if len(img_import.shape) != 3:\n",
    "                raise ValueError(\"Image is not a 3D stack, please choose another image\")\n",
    "                \n",
    "            # Convert to 8-bit RGB\n",
    "            self.img = util.img_as_ubyte(img_import)\n",
    "            print(\"Image successfully imported\")\n",
    "    \n",
    "    def display_widgets(self):\n",
    "        self._create_widgets()\n",
    "        self.out = widgets.Output()\n",
    "        display(self.select_file, self.load_button, self.out)\n",
    "           \n",
    "    def get_img(self):\n",
    "        return self.img\n",
    "    \n",
    "    def get_img_filename(self):\n",
    "        return self.select_file.selected_filename\n",
    "\n",
    "def show_3D_slider(img):\n",
    "    def show_slice(slice_number):\n",
    "        io.imshow(img[slice_number])\n",
    "        io.show()\n",
    "    slider = widgets.IntSlider(min=0, max=len(img), step=1, description=\"Slice number\")\n",
    "    interact(show_slice, slice_number=slider)\n",
    "\n",
    "Stack3D = Image3D()\n",
    "Stack3D.display_widgets()\n"
   ]
  },
  {
   "cell_type": "code",
   "execution_count": 4,
   "metadata": {},
   "outputs": [
    {
     "name": "stdout",
     "output_type": "stream",
     "text": [
      "HN1_test.tif\n"
     ]
    },
    {
     "data": {
      "application/vnd.jupyter.widget-view+json": {
       "model_id": "ec7ae3ff83e54e04ba4c5f087e73b5c3",
       "version_major": 2,
       "version_minor": 0
      },
      "text/plain": [
       "interactive(children=(IntSlider(value=0, description='Slice number', max=239), Output()), _dom_classes=('widge…"
      ]
     },
     "metadata": {},
     "output_type": "display_data"
    }
   ],
   "source": [
    "img = Stack3D.get_img()\n",
    "fname_3d = Stack3D.get_img_filename()\n",
    "print(fname_3d)\n",
    "show_3D_slider(img)"
   ]
  },
  {
   "cell_type": "code",
   "execution_count": null,
   "metadata": {},
   "outputs": [],
   "source": [
    "reset"
   ]
  },
  {
   "cell_type": "markdown",
   "metadata": {},
   "source": [
    "## Import registered 2D images into 3D stack.\n",
    "\n",
    "Run the following cell to import a 2D image and specify the position in the 3D stack to import the 2D image."
   ]
  },
  {
   "cell_type": "markdown",
   "metadata": {},
   "source": [
    "The following cell inserts the 2D image at the specified position."
   ]
  },
  {
   "cell_type": "code",
   "execution_count": 6,
   "metadata": {},
   "outputs": [],
   "source": [
    "instances_2D = {}\n",
    "\n",
    "class Image2D():\n",
    "    \"\"\" Imports a 2D image and records instances \"\"\"\n",
    "    \n",
    "    def __init__(self):\n",
    "        self.time_imported = time.strftime(\"%D%H%M%S\", time.localtime()) # saves the time as a unique ID\n",
    "        instances_2D[self.time_imported] = self\n",
    "    \n",
    "    def _create_widgets(self):\n",
    "        self.select_file = FileChooser(os.getcwd())\n",
    "        self.load_button = widgets.Button(description=\"Load image\")\n",
    "        self.position = widgets.BoundedFloatText(min=0, max=len(img), step=1, description=\"Position of 2D image\")\n",
    "        self.load_button.on_click(self._on_load_button_clicked)\n",
    "    \n",
    "    def _on_load_button_clicked(self, change):\n",
    "        self.out.clear_output()\n",
    "        with self.out:\n",
    "            print(\"Importing image {}, please wait...\".format(self.select_file.selected))\n",
    "            img_import = io.imread(self.select_file.selected, plugin='pil')\n",
    "            if len(img_import.shape) != 3:\n",
    "                raise ValueError(\"Image is not 2D, please choose a 2D image\")\n",
    "            self.img_2d = util.img_as_ubyte(img_import) # 8bit RGB\n",
    "            print(\"Image successfully imported\")\n",
    "    \n",
    "    def display_widgets(self):\n",
    "        self._create_widgets()\n",
    "        self.out = widgets.Output()\n",
    "        display(self.select_file, self.position, self.load_button, self.out)\n",
    "    \n",
    "    def get_2D_img_fname(self):\n",
    "        return self.select_file.selected_filename\n",
    "    \n",
    "    def get_2D_img(self):\n",
    "        return self.img_2d\n",
    "    \n",
    "    def get_position(self):\n",
    "        return int(self.position.value)\n",
    "\n",
    "class CreateImage2D():\n",
    "    \"\"\" Creates Image2D instances \"\"\"\n",
    "    def __init__(self):\n",
    "        self.widget_layout = widgets.Layout(width='auto', height='40px')\n",
    "    \n",
    "    def _create_widgets(self):\n",
    "        self.new_img_button = widgets.Button(description=\"Add new image\", layout=self.widget_layout)\n",
    "        self.new_img_button.on_click(self._import_2D)\n",
    "        self.update_instances_button = widgets.Button(description=\"Display list of loaded images\", \n",
    "                                                      layout=self.widget_layout)\n",
    "        self.update_instances_button.on_click(self._display_instances)\n",
    "        self.clear_all_button = widgets.Button(description=\"Clear all 2D images\", layout=self.widget_layout)\n",
    "        self.clear_all_button.on_click(self._clear_all)\n",
    "        \n",
    "    def _import_2D(self, change):\n",
    "        \"\"\" Create instance of ImageImport2D, shows all instances \"\"\"\n",
    "        Img2D = Image2D()\n",
    "        Img2D.display_widgets()\n",
    "    \n",
    "    def _display_instances(self, change):\n",
    "        \"\"\" Displays all instances of ImageImport2D \"\"\"\n",
    "        clear_output()\n",
    "        self.display_widgets()\n",
    "        instance_2D_fnames = []\n",
    "        instance_2D_positions = []\n",
    "        for key in [*instances_2D.keys()]:\n",
    "            instance_2D_fnames.append(instances_2D[key].get_2D_img_fname())\n",
    "            instance_2D_positions.append(instances_2D[key].get_position())\n",
    "        instance_2D_data = {'Key': [*instances_2D.keys()], 'Filenames': instance_2D_fnames, \n",
    "                            'Positions': instance_2D_positions}\n",
    "        instance_2D_df = pd.DataFrame(data=instance_2D_data)\n",
    "        display(instance_2D_df)\n",
    "        \n",
    "    def _clear_all(self, change):\n",
    "        \"\"\" Deletes all instances of ImageImport2D \"\"\"\n",
    "        clear_output()\n",
    "        self.display_widgets()\n",
    "        with self.out:\n",
    "            print(\"Clearing all 2D images\")\n",
    "            instances_2D.clear()\n",
    "            print(\"Cleared all 2D images\")\n",
    "    \n",
    "    def display_widgets(self):\n",
    "        self._create_widgets()\n",
    "        self.out = widgets.Output()\n",
    "        hbox = widgets.HBox([self.new_img_button, self.update_instances_button, self.clear_all_button])\n",
    "        vbox = widgets.VBox([hbox, self.out])\n",
    "        display(vbox)"
   ]
  },
  {
   "cell_type": "code",
   "execution_count": 7,
   "metadata": {},
   "outputs": [
    {
     "data": {
      "application/vnd.jupyter.widget-view+json": {
       "model_id": "6854bfdd28604f2180bec3f3a3daedb7",
       "version_major": 2,
       "version_minor": 0
      },
      "text/plain": [
       "VBox(children=(HBox(children=(Button(description='Add new image', layout=Layout(height='40px', width='auto'), …"
      ]
     },
     "metadata": {},
     "output_type": "display_data"
    },
    {
     "data": {
      "application/vnd.jupyter.widget-view+json": {
       "model_id": "5cd443ba7a43441882c275b85686a7fe",
       "version_major": 2,
       "version_minor": 0
      },
      "text/plain": [
       "FileChooser(path='C:\\Users\\emlh1n13\\OneDrive - University of Southampton\\Projects\\Aim2\\CorView', filename='', …"
      ]
     },
     "metadata": {},
     "output_type": "display_data"
    },
    {
     "data": {
      "application/vnd.jupyter.widget-view+json": {
       "model_id": "e24945f20b1048f98c26ce0f09c774bf",
       "version_major": 2,
       "version_minor": 0
      },
      "text/plain": [
       "BoundedFloatText(value=0.0, description='Position of 2D image', max=239.0, step=1.0)"
      ]
     },
     "metadata": {},
     "output_type": "display_data"
    },
    {
     "data": {
      "application/vnd.jupyter.widget-view+json": {
       "model_id": "115322a383044c9badb678ff6e9c1a3f",
       "version_major": 2,
       "version_minor": 0
      },
      "text/plain": [
       "Button(description='Load image', style=ButtonStyle())"
      ]
     },
     "metadata": {},
     "output_type": "display_data"
    },
    {
     "data": {
      "application/vnd.jupyter.widget-view+json": {
       "model_id": "01d967cf428b43eb936c4af74e659acd",
       "version_major": 2,
       "version_minor": 0
      },
      "text/plain": [
       "Output()"
      ]
     },
     "metadata": {},
     "output_type": "display_data"
    }
   ],
   "source": [
    "New2D = CreateImage2D()\n",
    "New2D.display_widgets()"
   ]
  },
  {
   "cell_type": "markdown",
   "metadata": {},
   "source": [
    "# Side-by-side viewing"
   ]
  },
  {
   "cell_type": "code",
   "execution_count": 8,
   "metadata": {},
   "outputs": [
    {
     "data": {
      "application/vnd.jupyter.widget-view+json": {
       "model_id": "b866c42591a04370a672af8b577068c7",
       "version_major": 2,
       "version_minor": 0
      },
      "text/plain": [
       "VBox(children=(HBox(children=(Text(value='3DXRH-Vis.html', description='Enter desired output filename', layout…"
      ]
     },
     "metadata": {},
     "output_type": "display_data"
    }
   ],
   "source": [
    "def rgba(img_2D, alpha=255):\n",
    "    \"\"\" Convert RGB to RGBA image with alpha \"\"\"\n",
    "    shape = img_2D.shape\n",
    "    alpha = np.full(shape=(shape[0],shape[1],1), fill_value=alpha, dtype='uint8') # create an alpha channel at full alpha\n",
    "    img_rgba = np.concatenate((img_2D, alpha), axis=2) # join to rgb to make a rgba image\n",
    "\n",
    "    return img_rgba\n",
    "\n",
    "class CreateVis():\n",
    "    \"\"\" Creates visualisations for given images \"\"\"\n",
    "    \n",
    "    def __init__(self):\n",
    "        if Stack3D is None:\n",
    "            raise NameError(\"No CT image imported\")\n",
    "        else:\n",
    "            self.img_3D = Stack3D\n",
    "        self.widget_layout = widgets.Layout(width='auto', height='40px')\n",
    "        self.widget_style = {'description_width': 'auto'}\n",
    "    \n",
    "    def _create_widgets(self):\n",
    "        # Choose output filename\n",
    "        self.output_fname_textbox = widgets.Text(value=\"3DXRH-Vis.html\", description=\"Enter desired output filename\",\n",
    "                                                layout=self.widget_layout, style=self.widget_style)\n",
    "        self.output_fname = self.output_fname_textbox.value\n",
    "        if self.output_fname.endswith('.html') == False:\n",
    "            self.output_fname+='.html' # ensures correct file extension\n",
    "        self.output_fname_textbox.observe(self._on_change_output_filename, names='value')\n",
    "        \n",
    "        # Select one of 2D instances to display\n",
    "        options = []\n",
    "        for key in [*instances_2D.keys()]:\n",
    "            options.append((\"{} at position {}\".format(instances_2D[key].get_2D_img_fname(), \n",
    "                                                            instances_2D[key].get_position()), key))\n",
    "        self.instances_2D_dropdown = widgets.Dropdown(options=options, value=[*instances_2D.keys()][0],\n",
    "                                                     description=\"2D image to display\", layout=self.widget_layout,\n",
    "                                                     style=self.widget_style)\n",
    "        self.instances_2D_dropdown.observe(self._on_change_instances_2D, names='value')\n",
    "        self.img_2D = instances_2D[self.instances_2D_dropdown.value]\n",
    "    \n",
    "        # Button to generate visualisation\n",
    "        self.generate_vis_button = widgets.Button(description=\"Generate visualisation\", layout=self.widget_layout,\n",
    "                                                 style=self.widget_style)\n",
    "        self.generate_vis_button.on_click(self._generate_plot)\n",
    "          \n",
    "    def _on_change_output_filename(self, change):\n",
    "        \"\"\" Updates self.output_fname attribute when dropdown menu is changed \"\"\"\n",
    "        self.output_fname = change.new\n",
    "        if self.output_fname.endswith('.html') == False:\n",
    "            self.output_fname+='.html' # ensures correct file extension\n",
    "    \n",
    "    def _on_change_instances_2D(self, change):\n",
    "        \"\"\" Updates self.img_2D attribute when dropdown menu is changed \"\"\"\n",
    "        self.img_2D = instances_2D[change.new]\n",
    "    \n",
    "    def _generate_plot(self, change):\n",
    "        \"\"\" Bokeh plot of registered 2D images side-by-side with linked zooming and panning \"\"\"\n",
    "        img_CT = self.img_3D.get_img()\n",
    "        img_histo = self.img_2D.get_2D_img()\n",
    "        CT_slice = self.img_2D.get_position()\n",
    "        tools = \"pan, wheel_zoom, box_zoom, reset\"\n",
    "        \n",
    "        # set up Bokeh\n",
    "        output_file(self.output_fname, \"Correlative micro-CT and histology\")\n",
    "        \n",
    "        # show CT\n",
    "        p_CT = figure(plot_width=500, plot_height=500, title=\"CT slice {}\".format(str(CT_slice)), tools=tools)\n",
    "        p_CT.image(image=[img_CT[int(CT_slice)]], x=[0], y=[0], dw=[img_CT.shape[1]], dh=[img_CT.shape[0]],palette=\"Greys256\")\n",
    "\n",
    "        # show histo\n",
    "        p_histo = figure(plot_width=500, plot_height=500, x_range=p_CT.x_range, y_range=p_CT.y_range, \n",
    "                         title=\"Histology {}\".format(self.img_2D.get_2D_img_fname()), tools=tools)\n",
    "        p_histo.image_rgba(image=[rgba(img_histo)], x=[0], y=[0], dw=[img_CT.shape[1]], dh=[img_CT.shape[0]])\n",
    "\n",
    "        p = gridplot([[p_CT, p_histo]])\n",
    "        show(p)\n",
    "        \n",
    "    def display_widgets(self):\n",
    "        self._create_widgets()\n",
    "        self.out = widgets.Output()\n",
    "        hbox = widgets.HBox([self.output_fname_textbox, self.instances_2D_dropdown])\n",
    "        vbox = widgets.VBox([hbox, self.generate_vis_button, self.out])\n",
    "        display(vbox)\n",
    "        \n",
    "bokeh_plot = CreateVis()\n",
    "bokeh_plot.display_widgets()"
   ]
  },
  {
   "cell_type": "markdown",
   "metadata": {},
   "source": [
    "# to do\n",
    "\n",
    "- [done] Wrap 2D importing into a function so we can import several 2D images\n",
    "- [done] Menu to choose 2D images to skip to\n",
    "- [done] Side by side viewer\n",
    "- [done] Linked pan and zoom for side-by-side\n",
    "- [done] Max intensity\n",
    "- Orthoslice viewer for combined stack\n",
    "- [done] Export side-by-side plot to html\n",
    "- Port to Voila"
   ]
  },
  {
   "cell_type": "markdown",
   "metadata": {},
   "source": [
    "## dep\n"
   ]
  },
  {
   "cell_type": "markdown",
   "metadata": {},
   "source": [
    "## Explore 3D dataset\n",
    "\n",
    "3D images are displayed as sequences of 2D images. Run the following cell to import a 3D dataset."
   ]
  },
  {
   "cell_type": "code",
   "execution_count": null,
   "metadata": {},
   "outputs": [],
   "source": [
    "# Import a 3D dataset\n",
    "fc_3d = FileChooser(os.getcwd())\n",
    "display(fc_3d)"
   ]
  },
  {
   "cell_type": "markdown",
   "metadata": {},
   "source": [
    "Run the following cell to view the 3D dataset."
   ]
  },
  {
   "cell_type": "code",
   "execution_count": null,
   "metadata": {},
   "outputs": [],
   "source": [
    "def show_3D_slider():\n",
    "    img = Image.open(fc_3d.selected)\n",
    "    \n",
    "    def show_slice(slice_number):\n",
    "        img.seek(slice_number)\n",
    "        display(img)\n",
    "        \n",
    "    slider = widgets.IntSlider(min=0, max=img.n_frames, step=1, description=\"Slice number\")\n",
    "    interact(show_slice, slice_number=slider)\n",
    "    \n",
    "    return img\n",
    "\n",
    "img = show_3D_slider()"
   ]
  },
  {
   "cell_type": "code",
   "execution_count": null,
   "metadata": {},
   "outputs": [],
   "source": [
    "io.find_available_plugins()\n"
   ]
  }
 ],
 "metadata": {
  "kernelspec": {
   "display_name": "Python 3",
   "language": "python",
   "name": "python3"
  },
  "language_info": {
   "codemirror_mode": {
    "name": "ipython",
    "version": 3
   },
   "file_extension": ".py",
   "mimetype": "text/x-python",
   "name": "python",
   "nbconvert_exporter": "python",
   "pygments_lexer": "ipython3",
   "version": "3.7.8"
  }
 },
 "nbformat": 4,
 "nbformat_minor": 4
}
